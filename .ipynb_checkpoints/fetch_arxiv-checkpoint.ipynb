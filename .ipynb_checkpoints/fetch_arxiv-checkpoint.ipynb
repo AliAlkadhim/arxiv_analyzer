{
 "cells": [
  {
   "cell_type": "markdown",
   "id": "fbc2a99f-d0d4-400a-a420-7edec47f7a7e",
   "metadata": {},
   "source": [
    "see https://betatim.github.io/posts/analysing-the-arxiv/"
   ]
  },
  {
   "cell_type": "code",
   "execution_count": 97,
   "id": "d532a4dd-bad2-420c-955c-0ed22d8c9c70",
   "metadata": {},
   "outputs": [],
   "source": [
    "import urllib\n",
    "import pandas as pd\n",
    "import feedparser\n",
    "import datetime\n",
    "from bs4 import BeautifulSoup"
   ]
  },
  {
   "cell_type": "code",
   "execution_count": 29,
   "id": "097eb742-a209-4a13-83f6-38fb34d7163e",
   "metadata": {},
   "outputs": [
    {
     "name": "stdout",
     "output_type": "stream",
     "text": [
      "Help on package urllib:\n",
      "\n",
      "NAME\n",
      "    urllib\n",
      "\n",
      "MODULE REFERENCE\n",
      "    https://docs.python.org/3.9/library/urllib\n",
      "    \n",
      "    The following documentation is automatically generated from the Python\n",
      "    source files.  It may be incomplete, incorrect or include features that\n",
      "    are considered implementation detail and may vary between Python\n",
      "    implementations.  When in doubt, consult the module reference at the\n",
      "    location listed above.\n",
      "\n",
      "PACKAGE CONTENTS\n",
      "    error\n",
      "    parse\n",
      "    request\n",
      "    response\n",
      "    robotparser\n",
      "\n",
      "FILE\n",
      "    /home/ali/anaconda3/envs/new_torch/lib/python3.9/urllib/__init__.py\n",
      "\n",
      "\n"
     ]
    }
   ],
   "source": [
    "help(urllib)"
   ]
  },
  {
   "cell_type": "code",
   "execution_count": 7,
   "id": "55e2db73-a66f-4d03-806d-69b131dab47d",
   "metadata": {},
   "outputs": [
    {
     "name": "stdout",
     "output_type": "stream",
     "text": [
      "data\n"
     ]
    }
   ],
   "source": [
    "import xml.etree.ElementTree as ET\n",
    "tree = ET.parse('country.xml')\n",
    "root = tree.getroot()\n",
    "print(root.tag)"
   ]
  },
  {
   "cell_type": "code",
   "execution_count": 21,
   "id": "d9296c79-279e-4983-a6d9-f9aed6400984",
   "metadata": {},
   "outputs": [
    {
     "name": "stdout",
     "output_type": "stream",
     "text": [
      "append\n",
      "attrib\n",
      "clear\n",
      "extend\n",
      "find\n",
      "findall\n",
      "findtext\n",
      "get\n",
      "insert\n",
      "items\n",
      "iter\n",
      "iterfind\n",
      "itertext\n",
      "keys\n",
      "makeelement\n",
      "remove\n",
      "set\n",
      "tag\n",
      "tail\n",
      "text\n"
     ]
    }
   ],
   "source": [
    "for f in dir(root): \n",
    "    if '__' not in f: print(f)"
   ]
  },
  {
   "cell_type": "code",
   "execution_count": 10,
   "id": "ff5d455c-c78a-4d97-9655-f29c2c99a56d",
   "metadata": {},
   "outputs": [
    {
     "name": "stdout",
     "output_type": "stream",
     "text": [
      "<?xml version=\"1.0\"?>\n",
      "<data>\n",
      "    <country name=\"Liechtenstein\">\n",
      "        <rank>1</rank>\n",
      "        <year>2008</year>\n",
      "        <gdppc>141100</gdppc>\n",
      "        <neighbor name=\"Austria\" direction=\"E\"/>\n",
      "        <neighbor name=\"Switzerland\" direction=\"W\"/>\n",
      "    </country>\n",
      "    <country name=\"Singapore\">\n",
      "        <rank>4</rank>\n",
      "        <year>2011</year>\n",
      "        <gdppc>59900</gdppc>\n",
      "        <neighbor name=\"Malaysia\" direction=\"N\"/>\n",
      "    </country>\n",
      "    <country name=\"Panama\">\n",
      "        <rank>68</rank>\n",
      "        <year>2011</year>\n",
      "        <gdppc>13600</gdppc>\n",
      "        <neighbor name=\"Costa Rica\" direction=\"W\"/>\n",
      "        <neighbor name=\"Colombia\" direction=\"E\"/>\n",
      "    </country>\n",
      "</data>\n"
     ]
    },
    {
     "data": {
      "text/plain": [
       "<Element 'data' at 0x7f580e4c4a40>"
      ]
     },
     "execution_count": 10,
     "metadata": {},
     "output_type": "execute_result"
    }
   ],
   "source": [
    "f = open('country.xml').read()\n",
    "print(f)\n",
    "r = ET.fromstring(f)\n",
    "r"
   ]
  },
  {
   "cell_type": "code",
   "execution_count": 80,
   "id": "ebee4ea0-8d0c-43a2-b65f-fa259f2eefdb",
   "metadata": {},
   "outputs": [],
   "source": [
    "OAI = \"{http://www.openarchives.org/OAI/2.0/}\"\n",
    "ARXIV = \"{http://arxiv.org/OAI/arXiv/}\"\n",
    "\n",
    "start_date='2012-01-01'\n",
    "end_date='2012-02-05'\n",
    "\n",
    "category=\"physics:hep-ex\"\n",
    "\n",
    "def make_url():\n",
    "    base_url = \"http://export.arxiv.org/oai2?verb=ListRecords&\"\n",
    "    url = (base_url +\n",
    "    f\"from={start_date}&until={end_date}&\" +\n",
    "    f\"metadataPrefix=arXiv&set={category}\")\n",
    "    print(url)\n",
    "    return url"
   ]
  },
  {
   "cell_type": "code",
   "execution_count": 90,
   "id": "9a683214-f05c-434a-9e60-6a6943e3e84c",
   "metadata": {},
   "outputs": [
    {
     "name": "stdout",
     "output_type": "stream",
     "text": [
      "http://export.arxiv.org/oai2?verb=ListRecords&from=2012-01-01&until=2012-02-05&metadataPrefix=arXiv&set=physics:hep-ex\n"
     ]
    }
   ],
   "source": [
    "url=make_url()"
   ]
  },
  {
   "cell_type": "markdown",
   "id": "b097bae8-439a-4b8f-9c57-42c75f2e57e2",
   "metadata": {},
   "source": [
    "you can check this url on your browser (xml schema)"
   ]
  },
  {
   "cell_type": "code",
   "execution_count": 95,
   "id": "a47ab573-e2a4-4f09-80df-c7ddfce544a6",
   "metadata": {},
   "outputs": [
    {
     "name": "stdout",
     "output_type": "stream",
     "text": [
      "<Element '{http://www.openarchives.org/OAI/2.0/}OAI-PMH' at 0x7f57f5734310>\n"
     ]
    }
   ],
   "source": [
    "with urllib.request.urlopen(url) as response:\n",
    "    xml=response.read()\n",
    "    root = ET.fromstring(xml)\n",
    "print(root)"
   ]
  },
  {
   "cell_type": "code",
   "execution_count": 122,
   "id": "0116ef0a-4614-42cb-b42b-da33c9279bc9",
   "metadata": {},
   "outputs": [
    {
     "name": "stdout",
     "output_type": "stream",
     "text": [
      "\n",
      "['<?xml version=\"1.0\" encoding=\"UTF-8\"?>\\n<html>\\n <body>\\n  <oai-pmh xmlns=\"http://www.openarchives.org/OAI/2.0/\" xmlns:xsi=\"http://www.w3.org/2001/XMLSchema-instance\" xsi:schemalocation=\"http://www.openarchives.org/OAI/2.0/ http://www.openarchives.org/OAI/2.0/OAI-PMH.xsd\">\\n   <responsedate>\\n    2023-07-15T10:00:14Z\\n   </responsedate>\\n   <request from=\"2012-01-01\" metadataprefix=\"arXiv\" set=\"physics:hep-ex\" until=\"2012-02-05\" verb=\"ListRecords\">\\n    http://export.arxiv.org/oai2\\n   </request>\\n   <listrecords>\\n    ', '\\n     <header>\\n      <identifier>\\n       oai:arXiv.org:1004.5333\\n      </identifier>\\n      <datestamp>\\n       2012-01-25\\n      </datestamp>\\n      <setspec>\\n       physics:hep-ex\\n      </setspec>\\n     </header>\\n     <metadata>\\n      <arxiv xmlns=\"http://arxiv.org/OAI/arXiv/\" xmlns:xsi=\"http://www.w3.org/2001/XMLSchema-instance\" xsi:schemalocation=\"http://arxiv.org/OAI/arXiv/ http://arxiv.org/OAI/arXiv.xsd\">\\n       <id>\\n        1004.5333\\n       </id>\\n       <created>\\n        2010-04-29\\n       </created>\\n       <updated>\\n        2011-10-13\\n       </updated>\\n       <authors>\\n        <author>\\n         <keyname>\\n          Narison\\n         </keyname>\\n         <forenames>\\n          Stephan\\n         </forenames>\\n         <affiliation>\\n          CNRS-IN2P3, Montpellier\\n         </affiliation>\\n        </author>\\n       </authors>\\n       <title>\\n        Gluon condensates and c, b quark masses from quarkonia ratios of moments\\n       </title>\\n       <categories>\\n        hep-ph hep-ex hep-lat\\n       </categories>\\n       <comments>\\n        8 pages, 2 figures, 5 tables. Due to a bug in the program, values of\\n  m_b(m_b) in Table 5 have been changed and are in excellent agreement with the\\n  ones from Q^2-moments (arXiv:1105.2922[hep-ph]) and exponential sum rules\\n  (arXiv:1105.5070[hep-ph]) within stability criteria. These changes will be\\n  published as an erratum in PLB\\n       </comments>\\n       <journal-ref>\\n        Phys.Lett.B693:559-566,2010\\n       </journal-ref>\\n       <doi>\\n        10.1016/j.physletb.2010.09.007\\n       </doi>\\n       <license>\\n        http://arxiv.org/licenses/nonexclusive-distrib/1.0/\\n       </license>\\n       <abstract>\\n        We extract (for the first time) the ratio of the gluon condensate &lt;\\ng^3f_{abc}G^3 &gt;/&lt; alpha_s G^2 &gt; expressed in terms of the liquid instanton\\nradius rho_c from charmonium moments sum rules by examining the effects of &lt;\\nalpha_s G^2 &gt; in the determinations of both rho_c and the running MS mass\\nm_c(m_c). Using a global analysis of selected ratios of moments at different\\nQ^2=0, 4m_c^2 and 8m_c^2 and taking &lt; alpha_s G^2 &gt; from 0.06 GeV^4, where the\\nestimate of rho_c is almost independent of &lt; alpha_s G^2 &gt;, we deduce:\\nrho_c=0.98(21) GeV^{-1} which corresponds to &lt; g^3f_{abc}G^3 &gt; = (31+- 13)\\nGeV^2 &lt; alpha_s G^2 &gt;. The value of m_c(m_c) is less affected (within the\\nerrors) by the variation of &lt; alpha_s G^2 &gt;, where a common solution from\\ndifferent moments are reached for &lt; alpha_s G^2 &gt; greater than 0.02 GeV^4.\\nUsing the values of &lt; alpha_s G^2 &gt;=0.06(2) GeV^4 from some other channels and\\nthe previous value of &lt; g^3f_{abc}G^3 &gt;, we deduce: m_c(m_c)=1260(18) MeV and\\nm_b(m_b)=4173(10) MeV, where an estimate of the 4-loops contribution has been\\nincluded. Our analysis indicates that the errors in the determinations of the\\ncharm quark mass without taking into account the ones of the gluon condensates\\nhave been underestimated. To that accuracy, one can deduce the running light\\nand heavy quark masses and their ratios evaluated at M_Z, where it is\\nremarkable to notice the approximate equalities: m_s/m_u= m_b/m_s= m_t/m_b=\\n51(4), which might reveal some eventual underlying novel symmetry of the quark\\nmass matrix in some Grand Unified Theories.\\n       </abstract>\\n      </arxiv>\\n     </metadata>\\n    </record>\\n    ']\n"
     ]
    }
   ],
   "source": [
    "print()\n",
    "soup=BeautifulSoup(xml).prettify()\n",
    "# string=soup.string\n",
    "print(soup.split('<record>')[:2])"
   ]
  },
  {
   "cell_type": "code",
   "execution_count": 68,
   "id": "3798ff21-63fa-4e60-b616-1246e451a093",
   "metadata": {},
   "outputs": [],
   "source": [
    "\n",
    "\n",
    "def fetch(arxiv=\n",
    "    df = pd.DataFrame(columns=(\"title\", \"abstract\", \"categories\", \"created\", \"id\", \"doi\"))\n",
    "    \n",
    "    while True:\n",
    "        print(\"fetching\", url)\n",
    "        try:\n",
    "            # response = urllib2.urlopen(url)\n",
    "            response = urllib.request.urlopen(url)\n",
    "            print('REQUEST successful')\n",
    "            \n",
    "        except urllib2.HTTPError as e:\n",
    "            if e.code == 503:\n",
    "                to = int(e.hdrs.get(\"retry-after\", 30))\n",
    "                print(\"Got 503. Retrying after {0:d} seconds.\".format(to))\n",
    "\n",
    "                time.sleep(to)\n",
    "                continue\n",
    "                \n",
    "            else:\n",
    "                raise\n",
    "            \n",
    "        xml = response.read()\n",
    "\n",
    "        root = ET.fromstring(xml)\n",
    "        for record in root.find(OAI+'ListRecords').findall(OAI+\"record\"):\n",
    "            arxiv_id = record.find(OAI+'header').find(OAI+'identifier')\n",
    "            meta = record.find(OAI+'metadata')\n",
    "            info = meta.find(ARXIV+\"arXiv\")\n",
    "            created = info.find(ARXIV+\"created\").text\n",
    "            created = datetime.datetime.strptime(created, \"%Y-%m-%d\")\n",
    "            categories = info.find(ARXIV+\"categories\").text\n",
    "\n",
    "            # if there is more than one DOI use the first one\n",
    "            # often the second one (if it exists at all) refers\n",
    "            # to an eratum or similar\n",
    "            doi = info.find(ARXIV+\"doi\")\n",
    "            if doi is not None:\n",
    "                doi = doi.text.split()[0]\n",
    "\n",
    "            contents = {'title': info.find(ARXIV+\"title\").text,\n",
    "                        'id': info.find(ARXIV+\"id\").text,#arxiv_id.text[4:],\n",
    "                        'abstract': info.find(ARXIV+\"abstract\").text.strip(),\n",
    "                        'created': created,\n",
    "                        'categories': categories.split(),\n",
    "                        'doi': doi,\n",
    "                        }\n",
    "\n",
    "            df = pd.DataFrame(contents)\n",
    "\n",
    "        # The list of articles returned by the API comes in chunks of\n",
    "        # 1000 articles. The presence of a resumptionToken tells us that\n",
    "        # there is more to be fetched.\n",
    "        token = root.find(OAI+'ListRecords').find(OAI+\"resumptionToken\")\n",
    "        if token is None or token.text is None:\n",
    "            break\n",
    "\n",
    "        else:\n",
    "            url = base_url + \"resumptionToken=%s\"%(token.text)\n",
    "\n",
    "    return df, root, response\n",
    "    \n"
   ]
  },
  {
   "cell_type": "code",
   "execution_count": 69,
   "id": "e82e7ab8-e6ad-4b1a-8b24-2e8b2acc0420",
   "metadata": {},
   "outputs": [
    {
     "name": "stdout",
     "output_type": "stream",
     "text": [
      "fetching http://export.arxiv.org/oai2?verb=ListRecords&from=2012-01-01&until=2012-02-05&metadataPrefix=arXiv&set=physics:hep-ex\n",
      "REQUEST successful\n"
     ]
    }
   ],
   "source": [
    "df, root, response = fetch()"
   ]
  },
  {
   "cell_type": "code",
   "execution_count": 66,
   "id": "aadc38f4-e4e4-4d28-a9bb-25719404c848",
   "metadata": {},
   "outputs": [
    {
     "data": {
      "text/html": [
       "<div>\n",
       "<style scoped>\n",
       "    .dataframe tbody tr th:only-of-type {\n",
       "        vertical-align: middle;\n",
       "    }\n",
       "\n",
       "    .dataframe tbody tr th {\n",
       "        vertical-align: top;\n",
       "    }\n",
       "\n",
       "    .dataframe thead th {\n",
       "        text-align: right;\n",
       "    }\n",
       "</style>\n",
       "<table border=\"1\" class=\"dataframe\">\n",
       "  <thead>\n",
       "    <tr style=\"text-align: right;\">\n",
       "      <th></th>\n",
       "      <th>title</th>\n",
       "      <th>id</th>\n",
       "      <th>abstract</th>\n",
       "      <th>created</th>\n",
       "      <th>categories</th>\n",
       "      <th>doi</th>\n",
       "    </tr>\n",
       "  </thead>\n",
       "  <tbody>\n",
       "    <tr>\n",
       "      <th>0</th>\n",
       "      <td>Search for the SM Higgs decaying to a b-quark ...</td>\n",
       "      <td>1202.0217</td>\n",
       "      <td>Summary of first ATLAS results is given for th...</td>\n",
       "      <td>2012-02-01</td>\n",
       "      <td>hep-ex</td>\n",
       "      <td>None</td>\n",
       "    </tr>\n",
       "  </tbody>\n",
       "</table>\n",
       "</div>"
      ],
      "text/plain": [
       "                                               title         id  \\\n",
       "0  Search for the SM Higgs decaying to a b-quark ...  1202.0217   \n",
       "\n",
       "                                            abstract    created categories  \\\n",
       "0  Summary of first ATLAS results is given for th... 2012-02-01     hep-ex   \n",
       "\n",
       "    doi  \n",
       "0  None  "
      ]
     },
     "execution_count": 66,
     "metadata": {},
     "output_type": "execute_result"
    }
   ],
   "source": [
    "df"
   ]
  },
  {
   "cell_type": "code",
   "execution_count": 73,
   "id": "f681a67c-7139-4c8c-a0f3-c4d0c228e8c2",
   "metadata": {},
   "outputs": [
    {
     "data": {
      "text/plain": [
       "<http.client.HTTPResponse at 0x7f57f4fa3bb0>"
      ]
     },
     "execution_count": 73,
     "metadata": {},
     "output_type": "execute_result"
    }
   ],
   "source": [
    "response"
   ]
  },
  {
   "cell_type": "code",
   "execution_count": 2,
   "id": "dc7bf08f-82bd-4edb-b07f-c002fdd81607",
   "metadata": {},
   "outputs": [],
   "source": [
    "# Base api query url\n",
    "base_url_query = 'http://export.arxiv.org/api/query?';\n",
    "\n",
    "\n",
    "base_url = \"http://export.arxiv.org/oai2?verb=ListRecords&\"\n",
    "\n",
    "# Search parameters\n",
    "search_query = 'all:electron' # search for electron in all fields\n",
    "start = 0                     # retreive the first 5 results\n",
    "max_results = 5\n",
    "\n",
    "query = 'search_query=%s&start=%i&max_results=%i' % (search_query,\n",
    "                                                     start,\n",
    "                                                     max_results)"
   ]
  },
  {
   "cell_type": "code",
   "execution_count": 3,
   "id": "b6d0acd9-0aaf-4220-84a0-0bc8e67d66b2",
   "metadata": {},
   "outputs": [
    {
     "ename": "AttributeError",
     "evalue": "module 'feedparser' has no attribute '_FeedParserMixin'",
     "output_type": "error",
     "traceback": [
      "\u001b[0;31m---------------------------------------------------------------------------\u001b[0m",
      "\u001b[0;31mAttributeError\u001b[0m                            Traceback (most recent call last)",
      "Cell \u001b[0;32mIn [3], line 1\u001b[0m\n\u001b[0;32m----> 1\u001b[0m \u001b[43mfeedparser\u001b[49m\u001b[38;5;241;43m.\u001b[39;49m\u001b[43m_FeedParserMixin\u001b[49m\u001b[38;5;241m.\u001b[39mnamespaces[\u001b[38;5;124m'\u001b[39m\u001b[38;5;124mhttp://a9.com/-/spec/opensearch/1.1/\u001b[39m\u001b[38;5;124m'\u001b[39m] \u001b[38;5;241m=\u001b[39m \u001b[38;5;124m'\u001b[39m\u001b[38;5;124mopensearch\u001b[39m\u001b[38;5;124m'\u001b[39m\n\u001b[1;32m      2\u001b[0m feedparser\u001b[38;5;241m.\u001b[39m_FeedParserMixin\u001b[38;5;241m.\u001b[39mnamespaces[\u001b[38;5;124m'\u001b[39m\u001b[38;5;124mhttp://arxiv.org/schemas/atom\u001b[39m\u001b[38;5;124m'\u001b[39m] \u001b[38;5;241m=\u001b[39m \u001b[38;5;124m'\u001b[39m\u001b[38;5;124marxiv\u001b[39m\u001b[38;5;124m'\u001b[39m\n",
      "\u001b[0;31mAttributeError\u001b[0m: module 'feedparser' has no attribute '_FeedParserMixin'"
     ]
    }
   ],
   "source": [
    "response = urllib2.urlopen(url)\n"
   ]
  },
  {
   "cell_type": "code",
   "execution_count": 4,
   "id": "55a26143-1ba8-4fd0-80c0-41ca3ba35c05",
   "metadata": {},
   "outputs": [
    {
     "ename": "AttributeError",
     "evalue": "module 'urllib' has no attribute 'urlopen'",
     "output_type": "error",
     "traceback": [
      "\u001b[0;31m---------------------------------------------------------------------------\u001b[0m",
      "\u001b[0;31mAttributeError\u001b[0m                            Traceback (most recent call last)",
      "Cell \u001b[0;32mIn [4], line 1\u001b[0m\n\u001b[0;32m----> 1\u001b[0m response \u001b[38;5;241m=\u001b[39m \u001b[43murllib\u001b[49m\u001b[38;5;241;43m.\u001b[39;49m\u001b[43murlopen\u001b[49m(base_url\u001b[38;5;241m+\u001b[39mquery)\u001b[38;5;241m.\u001b[39mread()\n",
      "\u001b[0;31mAttributeError\u001b[0m: module 'urllib' has no attribute 'urlopen'"
     ]
    }
   ],
   "source": [
    "response = urllib.urlopen(base_url+query).read()\n"
   ]
  },
  {
   "cell_type": "code",
   "execution_count": null,
   "id": "ae226517-6cd2-4808-827d-7728458368d5",
   "metadata": {},
   "outputs": [],
   "source": []
  }
 ],
 "metadata": {
  "kernelspec": {
   "display_name": "Python 3 (ipykernel)",
   "language": "python",
   "name": "python3"
  },
  "language_info": {
   "codemirror_mode": {
    "name": "ipython",
    "version": 3
   },
   "file_extension": ".py",
   "mimetype": "text/x-python",
   "name": "python",
   "nbconvert_exporter": "python",
   "pygments_lexer": "ipython3",
   "version": "3.9.13"
  }
 },
 "nbformat": 4,
 "nbformat_minor": 5
}
